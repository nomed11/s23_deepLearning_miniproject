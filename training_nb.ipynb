{
 "cells": [
  {
   "cell_type": "code",
   "execution_count": 1,
   "id": "abefc063",
   "metadata": {},
   "outputs": [],
   "source": [
    "import torch\n",
    "torch.manual_seed(17)\n",
    "\n",
    "import numpy as np\n",
    "from torchsummary import summary\n",
    "from tqdm import tqdm\n",
    "import matplotlib.pyplot as plt\n",
    "\n",
    "from DatasetLoader import DatasetFetcher\n",
    "from project_model import *"
   ]
  },
  {
   "cell_type": "code",
   "execution_count": 2,
   "id": "8f765a0f",
   "metadata": {},
   "outputs": [
    {
     "name": "stdout",
     "output_type": "stream",
     "text": [
      "tensor([1.], device='mps:0')\n"
     ]
    }
   ],
   "source": [
    "if torch.backends.mps.is_available():\n",
    "    mps_device = torch.device(\"mps\")\n",
    "    x = torch.ones(1, device=mps_device)\n",
    "    print (x)\n",
    "else:\n",
    "    print (\"MPS device not found.\")"
   ]
  },
  {
   "cell_type": "code",
   "execution_count": 3,
   "id": "2abf16da",
   "metadata": {},
   "outputs": [
    {
     "name": "stdout",
     "output_type": "stream",
     "text": [
      "mps\n"
     ]
    }
   ],
   "source": [
    "device = torch.device(\"mps\" if torch.backends.mps.is_available() else \"cpu\")\n",
    "print(device)"
   ]
  },
  {
   "cell_type": "code",
   "execution_count": 4,
   "id": "68036fb6",
   "metadata": {},
   "outputs": [
    {
     "name": "stdout",
     "output_type": "stream",
     "text": [
      "Initializing fetching CIFAR10 dataset using torchvision\n",
      "Files already downloaded and verified\n",
      "Files already downloaded and verified\n",
      "Files already downloaded and verified\n"
     ]
    }
   ],
   "source": [
    "# Fetching Dataset\n",
    "df = DatasetFetcher(dataset=\"CIFAR10\", batch_size=128)\n",
    "df.addHorizontalFlipping()\n",
    "#df.addVerticalFlipping()\n",
    "df.addRandomCrop(size=32, padding=4)\n",
    "#df.addAutoAugmentation()\n",
    "#df.addHistogramEqualization()\n",
    "df.addNormalizer()\n",
    "#df.addGaussianNoise()\n",
    "trainLoader, testLoader = df.getLoaders()"
   ]
  },
  {
   "cell_type": "code",
   "execution_count": 6,
   "id": "0bb7a73e",
   "metadata": {
    "scrolled": false
   },
   "outputs": [
    {
     "name": "stdout",
     "output_type": "stream",
     "text": [
      "----------------------------------------------------------------\n",
      "        Layer (type)               Output Shape         Param #\n",
      "================================================================\n",
      "            Conv2d-1           [-1, 32, 32, 32]             896\n",
      "       BatchNorm2d-2           [-1, 32, 32, 32]              64\n",
      "            Conv2d-3           [-1, 32, 32, 32]           9,248\n",
      "       BatchNorm2d-4           [-1, 32, 32, 32]              64\n",
      "            Conv2d-5           [-1, 32, 32, 32]           9,248\n",
      "       BatchNorm2d-6           [-1, 32, 32, 32]              64\n",
      "        BasicBlock-7           [-1, 32, 32, 32]               0\n",
      "            Conv2d-8           [-1, 32, 32, 32]           9,248\n",
      "       BatchNorm2d-9           [-1, 32, 32, 32]              64\n",
      "           Conv2d-10           [-1, 32, 32, 32]           9,248\n",
      "      BatchNorm2d-11           [-1, 32, 32, 32]              64\n",
      "       BasicBlock-12           [-1, 32, 32, 32]               0\n",
      "           Conv2d-13           [-1, 32, 32, 32]           9,248\n",
      "      BatchNorm2d-14           [-1, 32, 32, 32]              64\n",
      "           Conv2d-15           [-1, 32, 32, 32]           9,248\n",
      "      BatchNorm2d-16           [-1, 32, 32, 32]              64\n",
      "       BasicBlock-17           [-1, 32, 32, 32]               0\n",
      "           Conv2d-18           [-1, 32, 32, 32]           9,248\n",
      "      BatchNorm2d-19           [-1, 32, 32, 32]              64\n",
      "           Conv2d-20           [-1, 32, 32, 32]           9,248\n",
      "      BatchNorm2d-21           [-1, 32, 32, 32]              64\n",
      "       BasicBlock-22           [-1, 32, 32, 32]               0\n",
      "           Conv2d-23           [-1, 64, 16, 16]          18,496\n",
      "      BatchNorm2d-24           [-1, 64, 16, 16]             128\n",
      "           Conv2d-25           [-1, 64, 16, 16]          36,928\n",
      "      BatchNorm2d-26           [-1, 64, 16, 16]             128\n",
      "           Conv2d-27           [-1, 64, 16, 16]           2,112\n",
      "      BatchNorm2d-28           [-1, 64, 16, 16]             128\n",
      "       BasicBlock-29           [-1, 64, 16, 16]               0\n",
      "           Conv2d-30           [-1, 64, 16, 16]          36,928\n",
      "      BatchNorm2d-31           [-1, 64, 16, 16]             128\n",
      "           Conv2d-32           [-1, 64, 16, 16]          36,928\n",
      "      BatchNorm2d-33           [-1, 64, 16, 16]             128\n",
      "       BasicBlock-34           [-1, 64, 16, 16]               0\n",
      "           Conv2d-35           [-1, 64, 16, 16]          36,928\n",
      "      BatchNorm2d-36           [-1, 64, 16, 16]             128\n",
      "           Conv2d-37           [-1, 64, 16, 16]          36,928\n",
      "      BatchNorm2d-38           [-1, 64, 16, 16]             128\n",
      "       BasicBlock-39           [-1, 64, 16, 16]               0\n",
      "           Conv2d-40           [-1, 64, 16, 16]          36,928\n",
      "      BatchNorm2d-41           [-1, 64, 16, 16]             128\n",
      "           Conv2d-42           [-1, 64, 16, 16]          36,928\n",
      "      BatchNorm2d-43           [-1, 64, 16, 16]             128\n",
      "       BasicBlock-44           [-1, 64, 16, 16]               0\n",
      "           Conv2d-45            [-1, 128, 8, 8]          73,856\n",
      "      BatchNorm2d-46            [-1, 128, 8, 8]             256\n",
      "           Conv2d-47            [-1, 128, 8, 8]         147,584\n",
      "      BatchNorm2d-48            [-1, 128, 8, 8]             256\n",
      "           Conv2d-49            [-1, 128, 8, 8]           8,320\n",
      "      BatchNorm2d-50            [-1, 128, 8, 8]             256\n",
      "       BasicBlock-51            [-1, 128, 8, 8]               0\n",
      "           Conv2d-52            [-1, 128, 8, 8]         147,584\n",
      "      BatchNorm2d-53            [-1, 128, 8, 8]             256\n",
      "           Conv2d-54            [-1, 128, 8, 8]         147,584\n",
      "      BatchNorm2d-55            [-1, 128, 8, 8]             256\n",
      "       BasicBlock-56            [-1, 128, 8, 8]               0\n",
      "           Conv2d-57            [-1, 128, 8, 8]         147,584\n",
      "      BatchNorm2d-58            [-1, 128, 8, 8]             256\n",
      "           Conv2d-59            [-1, 128, 8, 8]         147,584\n",
      "      BatchNorm2d-60            [-1, 128, 8, 8]             256\n",
      "       BasicBlock-61            [-1, 128, 8, 8]               0\n",
      "           Conv2d-62            [-1, 128, 8, 8]         147,584\n",
      "      BatchNorm2d-63            [-1, 128, 8, 8]             256\n",
      "           Conv2d-64            [-1, 128, 8, 8]         147,584\n",
      "      BatchNorm2d-65            [-1, 128, 8, 8]             256\n",
      "       BasicBlock-66            [-1, 128, 8, 8]               0\n",
      "           Conv2d-67            [-1, 256, 4, 4]         295,168\n",
      "      BatchNorm2d-68            [-1, 256, 4, 4]             512\n",
      "           Conv2d-69            [-1, 256, 4, 4]         590,080\n",
      "      BatchNorm2d-70            [-1, 256, 4, 4]             512\n",
      "           Conv2d-71            [-1, 256, 4, 4]          33,024\n",
      "      BatchNorm2d-72            [-1, 256, 4, 4]             512\n",
      "       BasicBlock-73            [-1, 256, 4, 4]               0\n",
      "           Conv2d-74            [-1, 256, 4, 4]         590,080\n",
      "      BatchNorm2d-75            [-1, 256, 4, 4]             512\n",
      "           Conv2d-76            [-1, 256, 4, 4]         590,080\n",
      "      BatchNorm2d-77            [-1, 256, 4, 4]             512\n",
      "       BasicBlock-78            [-1, 256, 4, 4]               0\n",
      "           Linear-79                   [-1, 10]           2,570\n",
      "================================================================\n",
      "Total params: 3,576,842\n",
      "Trainable params: 3,576,842\n",
      "Non-trainable params: 0\n",
      "----------------------------------------------------------------\n",
      "Input size (MB): 0.01\n",
      "Forward/backward pass size (MB): 10.00\n",
      "Params size (MB): 13.64\n",
      "Estimated Total Size (MB): 23.66\n",
      "----------------------------------------------------------------\n",
      "None\n"
     ]
    }
   ],
   "source": [
    "# Get Model\n",
    "#model = ResNet(BasicBlock, 32, 4, [4, 4, 4, 2], 10, bias=True)\n",
    "model = project1_model()\n",
    "print(summary(model, input_size=(3, 32, 32)))\n",
    "model = model.to(device)"
   ]
  },
  {
   "cell_type": "code",
   "execution_count": 7,
   "id": "5954b0d8",
   "metadata": {},
   "outputs": [],
   "source": [
    "EPOCHS= 100\n",
    "globalBestAccuracy = 0.0\n",
    "trainingLoss = []\n",
    "testingLoss = []\n",
    "trainingAccuracy = []\n",
    "testingAccuracy = []"
   ]
  },
  {
   "cell_type": "code",
   "execution_count": 8,
   "id": "451b75e0",
   "metadata": {},
   "outputs": [
    {
     "name": "stdout",
     "output_type": "stream",
     "text": [
      "ResNet(\n",
      "  (conv1): Conv2d(3, 32, kernel_size=(3, 3), stride=(1, 1), padding=(1, 1))\n",
      "  (bn1): BatchNorm2d(32, eps=1e-05, momentum=0.1, affine=True, track_running_stats=True)\n",
      "  (layer1): Sequential(\n",
      "    (0): BasicBlock(\n",
      "      (conv1): Conv2d(32, 32, kernel_size=(3, 3), stride=(1, 1), padding=(1, 1))\n",
      "      (bn1): BatchNorm2d(32, eps=1e-05, momentum=0.1, affine=True, track_running_stats=True)\n",
      "      (conv2): Conv2d(32, 32, kernel_size=(3, 3), stride=(1, 1), padding=(1, 1))\n",
      "      (bn2): BatchNorm2d(32, eps=1e-05, momentum=0.1, affine=True, track_running_stats=True)\n",
      "      (shortcut): Sequential()\n",
      "    )\n",
      "    (1): BasicBlock(\n",
      "      (conv1): Conv2d(32, 32, kernel_size=(3, 3), stride=(1, 1), padding=(1, 1))\n",
      "      (bn1): BatchNorm2d(32, eps=1e-05, momentum=0.1, affine=True, track_running_stats=True)\n",
      "      (conv2): Conv2d(32, 32, kernel_size=(3, 3), stride=(1, 1), padding=(1, 1))\n",
      "      (bn2): BatchNorm2d(32, eps=1e-05, momentum=0.1, affine=True, track_running_stats=True)\n",
      "      (shortcut): Sequential()\n",
      "    )\n",
      "    (2): BasicBlock(\n",
      "      (conv1): Conv2d(32, 32, kernel_size=(3, 3), stride=(1, 1), padding=(1, 1))\n",
      "      (bn1): BatchNorm2d(32, eps=1e-05, momentum=0.1, affine=True, track_running_stats=True)\n",
      "      (conv2): Conv2d(32, 32, kernel_size=(3, 3), stride=(1, 1), padding=(1, 1))\n",
      "      (bn2): BatchNorm2d(32, eps=1e-05, momentum=0.1, affine=True, track_running_stats=True)\n",
      "      (shortcut): Sequential()\n",
      "    )\n",
      "    (3): BasicBlock(\n",
      "      (conv1): Conv2d(32, 32, kernel_size=(3, 3), stride=(1, 1), padding=(1, 1))\n",
      "      (bn1): BatchNorm2d(32, eps=1e-05, momentum=0.1, affine=True, track_running_stats=True)\n",
      "      (conv2): Conv2d(32, 32, kernel_size=(3, 3), stride=(1, 1), padding=(1, 1))\n",
      "      (bn2): BatchNorm2d(32, eps=1e-05, momentum=0.1, affine=True, track_running_stats=True)\n",
      "      (shortcut): Sequential()\n",
      "    )\n",
      "  )\n",
      "  (layer2): Sequential(\n",
      "    (0): BasicBlock(\n",
      "      (conv1): Conv2d(32, 64, kernel_size=(3, 3), stride=(2, 2), padding=(1, 1))\n",
      "      (bn1): BatchNorm2d(64, eps=1e-05, momentum=0.1, affine=True, track_running_stats=True)\n",
      "      (conv2): Conv2d(64, 64, kernel_size=(3, 3), stride=(1, 1), padding=(1, 1))\n",
      "      (bn2): BatchNorm2d(64, eps=1e-05, momentum=0.1, affine=True, track_running_stats=True)\n",
      "      (shortcut): Sequential(\n",
      "        (0): Conv2d(32, 64, kernel_size=(1, 1), stride=(2, 2))\n",
      "        (1): BatchNorm2d(64, eps=1e-05, momentum=0.1, affine=True, track_running_stats=True)\n",
      "      )\n",
      "    )\n",
      "    (1): BasicBlock(\n",
      "      (conv1): Conv2d(64, 64, kernel_size=(3, 3), stride=(1, 1), padding=(1, 1))\n",
      "      (bn1): BatchNorm2d(64, eps=1e-05, momentum=0.1, affine=True, track_running_stats=True)\n",
      "      (conv2): Conv2d(64, 64, kernel_size=(3, 3), stride=(1, 1), padding=(1, 1))\n",
      "      (bn2): BatchNorm2d(64, eps=1e-05, momentum=0.1, affine=True, track_running_stats=True)\n",
      "      (shortcut): Sequential()\n",
      "    )\n",
      "    (2): BasicBlock(\n",
      "      (conv1): Conv2d(64, 64, kernel_size=(3, 3), stride=(1, 1), padding=(1, 1))\n",
      "      (bn1): BatchNorm2d(64, eps=1e-05, momentum=0.1, affine=True, track_running_stats=True)\n",
      "      (conv2): Conv2d(64, 64, kernel_size=(3, 3), stride=(1, 1), padding=(1, 1))\n",
      "      (bn2): BatchNorm2d(64, eps=1e-05, momentum=0.1, affine=True, track_running_stats=True)\n",
      "      (shortcut): Sequential()\n",
      "    )\n",
      "    (3): BasicBlock(\n",
      "      (conv1): Conv2d(64, 64, kernel_size=(3, 3), stride=(1, 1), padding=(1, 1))\n",
      "      (bn1): BatchNorm2d(64, eps=1e-05, momentum=0.1, affine=True, track_running_stats=True)\n",
      "      (conv2): Conv2d(64, 64, kernel_size=(3, 3), stride=(1, 1), padding=(1, 1))\n",
      "      (bn2): BatchNorm2d(64, eps=1e-05, momentum=0.1, affine=True, track_running_stats=True)\n",
      "      (shortcut): Sequential()\n",
      "    )\n",
      "  )\n",
      "  (layer3): Sequential(\n",
      "    (0): BasicBlock(\n",
      "      (conv1): Conv2d(64, 128, kernel_size=(3, 3), stride=(2, 2), padding=(1, 1))\n",
      "      (bn1): BatchNorm2d(128, eps=1e-05, momentum=0.1, affine=True, track_running_stats=True)\n",
      "      (conv2): Conv2d(128, 128, kernel_size=(3, 3), stride=(1, 1), padding=(1, 1))\n",
      "      (bn2): BatchNorm2d(128, eps=1e-05, momentum=0.1, affine=True, track_running_stats=True)\n",
      "      (shortcut): Sequential(\n",
      "        (0): Conv2d(64, 128, kernel_size=(1, 1), stride=(2, 2))\n",
      "        (1): BatchNorm2d(128, eps=1e-05, momentum=0.1, affine=True, track_running_stats=True)\n",
      "      )\n",
      "    )\n",
      "    (1): BasicBlock(\n",
      "      (conv1): Conv2d(128, 128, kernel_size=(3, 3), stride=(1, 1), padding=(1, 1))\n",
      "      (bn1): BatchNorm2d(128, eps=1e-05, momentum=0.1, affine=True, track_running_stats=True)\n",
      "      (conv2): Conv2d(128, 128, kernel_size=(3, 3), stride=(1, 1), padding=(1, 1))\n",
      "      (bn2): BatchNorm2d(128, eps=1e-05, momentum=0.1, affine=True, track_running_stats=True)\n",
      "      (shortcut): Sequential()\n",
      "    )\n",
      "    (2): BasicBlock(\n",
      "      (conv1): Conv2d(128, 128, kernel_size=(3, 3), stride=(1, 1), padding=(1, 1))\n",
      "      (bn1): BatchNorm2d(128, eps=1e-05, momentum=0.1, affine=True, track_running_stats=True)\n",
      "      (conv2): Conv2d(128, 128, kernel_size=(3, 3), stride=(1, 1), padding=(1, 1))\n",
      "      (bn2): BatchNorm2d(128, eps=1e-05, momentum=0.1, affine=True, track_running_stats=True)\n",
      "      (shortcut): Sequential()\n",
      "    )\n",
      "    (3): BasicBlock(\n",
      "      (conv1): Conv2d(128, 128, kernel_size=(3, 3), stride=(1, 1), padding=(1, 1))\n",
      "      (bn1): BatchNorm2d(128, eps=1e-05, momentum=0.1, affine=True, track_running_stats=True)\n",
      "      (conv2): Conv2d(128, 128, kernel_size=(3, 3), stride=(1, 1), padding=(1, 1))\n",
      "      (bn2): BatchNorm2d(128, eps=1e-05, momentum=0.1, affine=True, track_running_stats=True)\n",
      "      (shortcut): Sequential()\n",
      "    )\n",
      "  )\n",
      "  (layer4): Sequential(\n",
      "    (0): BasicBlock(\n",
      "      (conv1): Conv2d(128, 256, kernel_size=(3, 3), stride=(2, 2), padding=(1, 1))\n",
      "      (bn1): BatchNorm2d(256, eps=1e-05, momentum=0.1, affine=True, track_running_stats=True)\n",
      "      (conv2): Conv2d(256, 256, kernel_size=(3, 3), stride=(1, 1), padding=(1, 1))\n",
      "      (bn2): BatchNorm2d(256, eps=1e-05, momentum=0.1, affine=True, track_running_stats=True)\n",
      "      (shortcut): Sequential(\n",
      "        (0): Conv2d(128, 256, kernel_size=(1, 1), stride=(2, 2))\n",
      "        (1): BatchNorm2d(256, eps=1e-05, momentum=0.1, affine=True, track_running_stats=True)\n",
      "      )\n",
      "    )\n",
      "    (1): BasicBlock(\n",
      "      (conv1): Conv2d(256, 256, kernel_size=(3, 3), stride=(1, 1), padding=(1, 1))\n",
      "      (bn1): BatchNorm2d(256, eps=1e-05, momentum=0.1, affine=True, track_running_stats=True)\n",
      "      (conv2): Conv2d(256, 256, kernel_size=(3, 3), stride=(1, 1), padding=(1, 1))\n",
      "      (bn2): BatchNorm2d(256, eps=1e-05, momentum=0.1, affine=True, track_running_stats=True)\n",
      "      (shortcut): Sequential()\n",
      "    )\n",
      "  )\n",
      "  (linear): Linear(in_features=256, out_features=10, bias=True)\n",
      ")\n",
      "Total Trainable Parameters : 3576842\n"
     ]
    }
   ],
   "source": [
    "# Defining Loss Function, Learning Rate, Weight Decay, Optimizer) \n",
    "lossFunction = torch.nn.CrossEntropyLoss(reduction='sum')\n",
    "learningRate = 0.1\n",
    "weightDecay = 0.0001\n",
    "optimizer = torch.optim.Adam(model.parameters(), lr=learningRate, weight_decay=weightDecay)\n",
    "#optimizer = torch.optim.Adagrad(model.parameters(), lr=learningRate, weight_decay=weightDecay)\n",
    "#optimizer = torch.optim.Adadelta(model.parameters(), lr=learningRate, weight_decay=weightDecay)\n",
    "scheduler = torch.optim.lr_scheduler.CosineAnnealingLR(optimizer, EPOCHS, eta_min=learningRate/10.0)\n",
    "print(model.eval())\n",
    "trainable_parameters = sum(p.numel() for p in model.parameters() if p.requires_grad)\n",
    "print(\"Total Trainable Parameters : %s\"%(trainable_parameters))\n",
    "if trainable_parameters > 5*(10**6):\n",
    "    raise Exception(\"Model not under budget!\")"
   ]
  },
  {
   "cell_type": "code",
   "execution_count": null,
   "id": "689660ad",
   "metadata": {},
   "outputs": [
    {
     "name": "stderr",
     "output_type": "stream",
     "text": [
      "  1%|          | 1/100 [03:42<6:06:52, 222.35s/it]"
     ]
    },
    {
     "name": "stdout",
     "output_type": "stream",
     "text": [
      "Training Loss : 7.530658016357422, Testing Loss : 11.139661637878419, Training Accuracy : 0.10284, Testing Accuracy : 0.1017\n"
     ]
    },
    {
     "name": "stderr",
     "output_type": "stream",
     "text": [
      "\r",
      "  2%|▏         | 2/100 [07:26<6:04:40, 223.27s/it]"
     ]
    },
    {
     "name": "stdout",
     "output_type": "stream",
     "text": [
      "Training Loss : 12.178044567871094, Testing Loss : 21.453942645263673, Training Accuracy : 0.10094, Testing Accuracy : 0.1\n"
     ]
    },
    {
     "name": "stderr",
     "output_type": "stream",
     "text": [
      "\r",
      "  3%|▎         | 3/100 [10:43<5:42:04, 211.59s/it]"
     ]
    },
    {
     "name": "stdout",
     "output_type": "stream",
     "text": [
      "Training Loss : 18.95725571777344, Testing Loss : 20.07739012145996, Training Accuracy : 0.10086, Testing Accuracy : 0.1\n"
     ]
    },
    {
     "name": "stderr",
     "output_type": "stream",
     "text": [
      "\r",
      "  4%|▍         | 4/100 [14:00<5:28:59, 205.62s/it]"
     ]
    },
    {
     "name": "stdout",
     "output_type": "stream",
     "text": [
      "Training Loss : 17.14233632080078, Testing Loss : 20.28043115234375, Training Accuracy : 0.09958, Testing Accuracy : 0.1\n"
     ]
    }
   ],
   "source": [
    "# Training\n",
    "for i in tqdm(range(EPOCHS)):\n",
    "    for phase in ['train', 'test']:\n",
    "        if phase == \"train\":\n",
    "            loader = trainLoader\n",
    "            model.train()\n",
    "            optimizer.zero_grad()\n",
    "        else:\n",
    "            loader = testLoader\n",
    "            model.eval()\n",
    "        runningLoss = 0.0\n",
    "        runningCorrects = 0\n",
    "        for images, labels in loader:\n",
    "            images = images.to(device)\n",
    "            labels = labels.to(device)\n",
    "            output = model(images)\n",
    "            loss = lossFunction(output, labels)\n",
    "            predicted_labels = torch.argmax(output, dim=1)\n",
    "            #runningLoss += loss.item()*images.size(0)\n",
    "            runningLoss += loss.item()\n",
    "            runningCorrects += torch.sum(predicted_labels == labels).float().item()\n",
    "            if phase == \"train\":\n",
    "                loss.backward()\n",
    "                optimizer.step()\n",
    "        epochLoss = runningLoss/len(loader.dataset)\n",
    "        epochAccuracy = runningCorrects/len(loader.dataset)\n",
    "        if phase == \"train\":\n",
    "            scheduler.step()\n",
    "            trainingLoss.append(epochLoss)\n",
    "            trainingAccuracy.append(epochAccuracy)\n",
    "        else:\n",
    "            testingLoss.append(epochLoss)\n",
    "            testingAccuracy.append(epochAccuracy)\n",
    "            if epochAccuracy > globalBestAccuracy:\n",
    "                globalBestAccuracy = epochAccuracy\n",
    "                model.saveToDisk()\n",
    "    print(\"Training Loss : %s, Testing Loss : %s, Training Accuracy : %s, Testing Accuracy : %s\"\\\n",
    "          %(trainingLoss[-1], testingLoss[-1], trainingAccuracy[-1], testingAccuracy[-1]))"
   ]
  },
  {
   "cell_type": "code",
   "execution_count": null,
   "id": "6167c582",
   "metadata": {},
   "outputs": [],
   "source": [
    "print(\"Maximum Testing Accuracy Achieved: %s\"%(max(testingAccuracy)))\n",
    "xmax = np.argmax(testingAccuracy)\n",
    "ymax = max(testingAccuracy)"
   ]
  },
  {
   "cell_type": "code",
   "execution_count": null,
   "id": "218746fc",
   "metadata": {},
   "outputs": [],
   "source": [
    "f, (ax1, ax2) = plt.subplots(1, 2, figsize=(20, 10))\n",
    "n = len(trainingLoss)\n",
    "ax1.plot(range(n), trainingLoss, '-', linewidth='3', label='Train Error')\n",
    "ax1.plot(range(n), testingLoss, '-', linewidth='3', label='Test Error')\n",
    "ax2.plot(range(n), trainingAccuracy, '-', linewidth='3', label='Train Accuracy')\n",
    "ax2.plot(range(n), testingAccuracy, '-', linewidth='3', label='Test Acuracy')\n",
    "ax2.annotate('max accuracy = %s'%(ymax), xy=(xmax, ymax), xytext=(xmax, ymax+0.15), arrowprops=dict(facecolor='black', shrink=0.05))\n",
    "ax1.grid(True)\n",
    "ax2.grid(True)\n",
    "ax1.legend()\n",
    "ax2.legend()\n",
    "f.savefig(\"./trainTestCurve.png\")"
   ]
  }
 ],
 "metadata": {
  "kernelspec": {
   "display_name": "projectresnet",
   "language": "python",
   "name": "projectresnet"
  },
  "language_info": {
   "codemirror_mode": {
    "name": "ipython",
    "version": 3
   },
   "file_extension": ".py",
   "mimetype": "text/x-python",
   "name": "python",
   "nbconvert_exporter": "python",
   "pygments_lexer": "ipython3",
   "version": "3.8.5"
  }
 },
 "nbformat": 4,
 "nbformat_minor": 5
}
