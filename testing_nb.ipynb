{
 "cells": [
  {
   "cell_type": "code",
   "execution_count": null,
   "id": "6e84a0e3",
   "metadata": {},
   "outputs": [],
   "source": [
    "import torch\n",
    "from DatasetFetcher import DatasetFetcher\n",
    "from project_model import *"
   ]
  },
  {
   "cell_type": "code",
   "execution_count": null,
   "id": "d97dc8cb",
   "metadata": {},
   "outputs": [],
   "source": [
    "# Check available device\n",
    "device = torch.device(\"mps\" if torch.cuda.is_available() else \"cpu\")\n",
    "print(device)"
   ]
  },
  {
   "cell_type": "code",
   "execution_count": null,
   "id": "378d0f10",
   "metadata": {},
   "outputs": [],
   "source": [
    "# Fetching Dataset\n",
    "df = DatasetFetcher(dataset=\"CIFAR10\", batch_size=128)\n",
    "testLoader = df.getTestLoader()"
   ]
  },
  {
   "cell_type": "code",
   "execution_count": null,
   "id": "18d47fb2",
   "metadata": {},
   "outputs": [],
   "source": [
    "# Get Model\n",
    "model = project1_model()\n",
    "model.load_state_dict(torch.load(\"./project1_model.pt\"))\n",
    "model = model.to(device)\n",
    "model.eval()"
   ]
  },
  {
   "cell_type": "code",
   "execution_count": null,
   "id": "ac50fff3",
   "metadata": {},
   "outputs": [],
   "source": [
    "corrects = 0.0\n",
    "for images, labels in testLoader:\n",
    "    images = images.to(device)\n",
    "    labels = labels.to(device)\n",
    "    output = model(images)\n",
    "    output = torch.argmax(output, dim=1)\n",
    "    corrects += torch.sum(labels == output).float().item()\n",
    "print(corrects/len(testLoader.dataset))"
   ]
  }
 ],
 "metadata": {
  "kernelspec": {
   "display_name": "projectresnet",
   "language": "python",
   "name": "projectresnet"
  },
  "language_info": {
   "codemirror_mode": {
    "name": "ipython",
    "version": 3
   },
   "file_extension": ".py",
   "mimetype": "text/x-python",
   "name": "python",
   "nbconvert_exporter": "python",
   "pygments_lexer": "ipython3",
   "version": "3.8.5"
  }
 },
 "nbformat": 4,
 "nbformat_minor": 5
}
